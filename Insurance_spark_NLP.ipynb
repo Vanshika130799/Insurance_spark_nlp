{
 "cells": [
  {
   "cell_type": "code",
   "execution_count": 26,
   "id": "41ab903c",
   "metadata": {},
   "outputs": [
    {
     "data": {
      "text/html": [
       "<img src=\"https://miro.medium.com/max/810/0*6rCBTaD7N99u8qRT\"/>"
      ],
      "text/plain": [
       "<IPython.core.display.Image object>"
      ]
     },
     "execution_count": 26,
     "metadata": {},
     "output_type": "execute_result"
    }
   ],
   "source": [
    "from IPython.display import Image\n",
    "from IPython.core.display import HTML \n",
    "Image(url= \"https://miro.medium.com/max/810/0*6rCBTaD7N99u8qRT\")"
   ]
  },
  {
   "cell_type": "code",
   "execution_count": 1,
   "id": "63767b42",
   "metadata": {},
   "outputs": [],
   "source": [
    "from pyspark.sql import SparkSession\n",
    "spark= SparkSession.builder.appName('insurance').getOrCreate()"
   ]
  },
  {
   "cell_type": "code",
   "execution_count": 2,
   "id": "9c6f45f7",
   "metadata": {},
   "outputs": [],
   "source": [
    "from pyspark.ml.regression import LinearRegression"
   ]
  },
  {
   "cell_type": "code",
   "execution_count": 3,
   "id": "320141bc",
   "metadata": {},
   "outputs": [],
   "source": [
    "dataset=spark.read.csv(\"insurance.csv\",inferSchema=True,header=True)"
   ]
  },
  {
   "cell_type": "code",
   "execution_count": 4,
   "id": "42e38584",
   "metadata": {},
   "outputs": [
    {
     "name": "stdout",
     "output_type": "stream",
     "text": [
      "+---+------+------+--------+------+---------+-----------+\n",
      "|age|   sex|   bmi|children|smoker|   region|    charges|\n",
      "+---+------+------+--------+------+---------+-----------+\n",
      "| 19|female|  27.9|       0|   yes|southwest|  16884.924|\n",
      "| 18|  male| 33.77|       1|    no|southeast|  1725.5523|\n",
      "| 28|  male|  33.0|       3|    no|southeast|   4449.462|\n",
      "| 33|  male|22.705|       0|    no|northwest|21984.47061|\n",
      "| 32|  male| 28.88|       0|    no|northwest|  3866.8552|\n",
      "| 31|female| 25.74|       0|    no|southeast|  3756.6216|\n",
      "| 46|female| 33.44|       1|    no|southeast|  8240.5896|\n",
      "| 37|female| 27.74|       3|    no|northwest|  7281.5056|\n",
      "| 37|  male| 29.83|       2|    no|northeast|  6406.4107|\n",
      "| 60|female| 25.84|       0|    no|northwest|28923.13692|\n",
      "| 25|  male| 26.22|       0|    no|northeast|  2721.3208|\n",
      "| 62|female| 26.29|       0|   yes|southeast| 27808.7251|\n",
      "| 23|  male|  34.4|       0|    no|southwest|   1826.843|\n",
      "| 56|female| 39.82|       0|    no|southeast| 11090.7178|\n",
      "| 27|  male| 42.13|       0|   yes|southeast| 39611.7577|\n",
      "| 19|  male|  24.6|       1|    no|southwest|   1837.237|\n",
      "| 52|female| 30.78|       1|    no|northeast| 10797.3362|\n",
      "| 23|  male|23.845|       0|    no|northeast| 2395.17155|\n",
      "| 56|  male|  40.3|       0|    no|southwest|  10602.385|\n",
      "| 30|  male|  35.3|       0|   yes|southwest|  36837.467|\n",
      "+---+------+------+--------+------+---------+-----------+\n",
      "only showing top 20 rows\n",
      "\n"
     ]
    }
   ],
   "source": [
    "dataset.show()"
   ]
  },
  {
   "cell_type": "code",
   "execution_count": 5,
   "id": "cc80ce29",
   "metadata": {},
   "outputs": [
    {
     "name": "stdout",
     "output_type": "stream",
     "text": [
      "root\n",
      " |-- age: integer (nullable = true)\n",
      " |-- sex: string (nullable = true)\n",
      " |-- bmi: double (nullable = true)\n",
      " |-- children: integer (nullable = true)\n",
      " |-- smoker: string (nullable = true)\n",
      " |-- region: string (nullable = true)\n",
      " |-- charges: double (nullable = true)\n",
      "\n"
     ]
    }
   ],
   "source": [
    "dataset.printSchema()"
   ]
  },
  {
   "cell_type": "code",
   "execution_count": 6,
   "id": "88961bd5",
   "metadata": {},
   "outputs": [],
   "source": [
    "from pyspark.ml.linalg import Vectors\n",
    "from pyspark.ml.feature import VectorAssembler\n",
    "from pyspark.ml.feature import StringIndexer"
   ]
  },
  {
   "cell_type": "code",
   "execution_count": 7,
   "id": "30aaee73",
   "metadata": {},
   "outputs": [],
   "source": [
    "indexers = [StringIndexer(inputCol=\"sex\", outputCol=\"Sex2\") , \n",
    "            StringIndexer(inputCol=\"smoker\", outputCol=\"smoker2\"),\n",
    "            StringIndexer(inputCol=\"region\", outputCol=\"region2\")\n",
    "           ]"
   ]
  },
  {
   "cell_type": "code",
   "execution_count": 8,
   "id": "502b98e5",
   "metadata": {},
   "outputs": [],
   "source": [
    "from pyspark.ml import Pipeline"
   ]
  },
  {
   "cell_type": "code",
   "execution_count": 9,
   "id": "ce1af8c3",
   "metadata": {},
   "outputs": [
    {
     "name": "stdout",
     "output_type": "stream",
     "text": [
      "+---+------+------+--------+------+---------+-----------+----+-------+-------+\n",
      "|age|   sex|   bmi|children|smoker|   region|    charges|Sex2|smoker2|region2|\n",
      "+---+------+------+--------+------+---------+-----------+----+-------+-------+\n",
      "| 19|female|  27.9|       0|   yes|southwest|  16884.924| 1.0|    1.0|    2.0|\n",
      "| 18|  male| 33.77|       1|    no|southeast|  1725.5523| 0.0|    0.0|    0.0|\n",
      "| 28|  male|  33.0|       3|    no|southeast|   4449.462| 0.0|    0.0|    0.0|\n",
      "| 33|  male|22.705|       0|    no|northwest|21984.47061| 0.0|    0.0|    1.0|\n",
      "| 32|  male| 28.88|       0|    no|northwest|  3866.8552| 0.0|    0.0|    1.0|\n",
      "| 31|female| 25.74|       0|    no|southeast|  3756.6216| 1.0|    0.0|    0.0|\n",
      "| 46|female| 33.44|       1|    no|southeast|  8240.5896| 1.0|    0.0|    0.0|\n",
      "| 37|female| 27.74|       3|    no|northwest|  7281.5056| 1.0|    0.0|    1.0|\n",
      "| 37|  male| 29.83|       2|    no|northeast|  6406.4107| 0.0|    0.0|    3.0|\n",
      "| 60|female| 25.84|       0|    no|northwest|28923.13692| 1.0|    0.0|    1.0|\n",
      "| 25|  male| 26.22|       0|    no|northeast|  2721.3208| 0.0|    0.0|    3.0|\n",
      "| 62|female| 26.29|       0|   yes|southeast| 27808.7251| 1.0|    1.0|    0.0|\n",
      "| 23|  male|  34.4|       0|    no|southwest|   1826.843| 0.0|    0.0|    2.0|\n",
      "| 56|female| 39.82|       0|    no|southeast| 11090.7178| 1.0|    0.0|    0.0|\n",
      "| 27|  male| 42.13|       0|   yes|southeast| 39611.7577| 0.0|    1.0|    0.0|\n",
      "| 19|  male|  24.6|       1|    no|southwest|   1837.237| 0.0|    0.0|    2.0|\n",
      "| 52|female| 30.78|       1|    no|northeast| 10797.3362| 1.0|    0.0|    3.0|\n",
      "| 23|  male|23.845|       0|    no|northeast| 2395.17155| 0.0|    0.0|    3.0|\n",
      "| 56|  male|  40.3|       0|    no|southwest|  10602.385| 0.0|    0.0|    2.0|\n",
      "| 30|  male|  35.3|       0|   yes|southwest|  36837.467| 0.0|    1.0|    2.0|\n",
      "+---+------+------+--------+------+---------+-----------+----+-------+-------+\n",
      "only showing top 20 rows\n",
      "\n"
     ]
    }
   ],
   "source": [
    "pipeline = Pipeline(stages=indexers)\n",
    "DF6 = pipeline.fit(dataset).transform(dataset)\n",
    "\n",
    "DF6.show()"
   ]
  },
  {
   "cell_type": "code",
   "execution_count": 10,
   "id": "2ff346cf",
   "metadata": {},
   "outputs": [],
   "source": [
    "drop_list =[\"sex\",\"smoker\",\"region\",\"children\",\"region2\"]\n",
    "data = DF6.select([column for column in DF6.columns if column not in drop_list])"
   ]
  },
  {
   "cell_type": "code",
   "execution_count": 11,
   "id": "92c07d46",
   "metadata": {},
   "outputs": [
    {
     "name": "stdout",
     "output_type": "stream",
     "text": [
      "+---+------+-----------+----+-------+\n",
      "|age|   bmi|    charges|Sex2|smoker2|\n",
      "+---+------+-----------+----+-------+\n",
      "| 19|  27.9|  16884.924| 1.0|    1.0|\n",
      "| 18| 33.77|  1725.5523| 0.0|    0.0|\n",
      "| 28|  33.0|   4449.462| 0.0|    0.0|\n",
      "| 33|22.705|21984.47061| 0.0|    0.0|\n",
      "| 32| 28.88|  3866.8552| 0.0|    0.0|\n",
      "| 31| 25.74|  3756.6216| 1.0|    0.0|\n",
      "| 46| 33.44|  8240.5896| 1.0|    0.0|\n",
      "| 37| 27.74|  7281.5056| 1.0|    0.0|\n",
      "| 37| 29.83|  6406.4107| 0.0|    0.0|\n",
      "| 60| 25.84|28923.13692| 1.0|    0.0|\n",
      "| 25| 26.22|  2721.3208| 0.0|    0.0|\n",
      "| 62| 26.29| 27808.7251| 1.0|    1.0|\n",
      "| 23|  34.4|   1826.843| 0.0|    0.0|\n",
      "| 56| 39.82| 11090.7178| 1.0|    0.0|\n",
      "| 27| 42.13| 39611.7577| 0.0|    1.0|\n",
      "| 19|  24.6|   1837.237| 0.0|    0.0|\n",
      "| 52| 30.78| 10797.3362| 1.0|    0.0|\n",
      "| 23|23.845| 2395.17155| 0.0|    0.0|\n",
      "| 56|  40.3|  10602.385| 0.0|    0.0|\n",
      "| 30|  35.3|  36837.467| 0.0|    1.0|\n",
      "+---+------+-----------+----+-------+\n",
      "only showing top 20 rows\n",
      "\n"
     ]
    }
   ],
   "source": [
    "data.show()"
   ]
  },
  {
   "cell_type": "code",
   "execution_count": 12,
   "id": "d7c3facb",
   "metadata": {},
   "outputs": [],
   "source": [
    "assembler = VectorAssembler(inputCols=[\"age\",\"bmi\",\"Sex2\",\"smoker2\"],outputCol=\"feature\")"
   ]
  },
  {
   "cell_type": "code",
   "execution_count": 13,
   "id": "742ffae3",
   "metadata": {},
   "outputs": [],
   "source": [
    "output = assembler.transform(data)"
   ]
  },
  {
   "cell_type": "code",
   "execution_count": 14,
   "id": "51ce6491",
   "metadata": {},
   "outputs": [],
   "source": [
    "finnal_df=output.select(\"feature\",\"charges\")"
   ]
  },
  {
   "cell_type": "code",
   "execution_count": 15,
   "id": "596f80ce",
   "metadata": {},
   "outputs": [],
   "source": [
    "train_data,test_data = finnal_df.randomSplit([0.7,0.3])"
   ]
  },
  {
   "cell_type": "code",
   "execution_count": 16,
   "id": "1547a7ec",
   "metadata": {},
   "outputs": [
    {
     "name": "stdout",
     "output_type": "stream",
     "text": [
      "+--------------------+-----------+\n",
      "|             feature|    charges|\n",
      "+--------------------+-----------+\n",
      "|[18.0,15.96,0.0,0.0]|  1694.7964|\n",
      "|[18.0,17.29,0.0,1.0]| 12829.4551|\n",
      "|[18.0,21.47,0.0,0.0]|  1702.4553|\n",
      "|[18.0,21.565,0.0,...|13747.87235|\n",
      "|[18.0,21.66,1.0,1.0]| 14283.4594|\n",
      "|[18.0,21.78,0.0,0.0]|11884.04858|\n",
      "|[18.0,23.085,0.0,...| 1704.70015|\n",
      "|[18.0,23.32,0.0,0.0]|  1711.0268|\n",
      "|[18.0,23.75,0.0,0.0]|  1705.6245|\n",
      "|[18.0,25.08,1.0,0.0]|  2196.4732|\n",
      "|[18.0,25.175,0.0,...|15518.18025|\n",
      "|[18.0,26.125,0.0,...| 1708.92575|\n",
      "|[18.0,26.18,0.0,0.0]|  2304.0022|\n",
      "|[18.0,26.315,1.0,...| 2198.18985|\n",
      "|[18.0,27.28,1.0,1.0]| 18223.4512|\n",
      "|[18.0,27.36,0.0,1.0]| 17178.6824|\n",
      "|[18.0,28.215,1.0,...| 2200.83085|\n",
      "|[18.0,28.31,0.0,0.0]|11272.33139|\n",
      "| [18.0,28.5,0.0,0.0]|   1712.227|\n",
      "|[18.0,29.165,1.0,...|7323.734819|\n",
      "+--------------------+-----------+\n",
      "only showing top 20 rows\n",
      "\n"
     ]
    }
   ],
   "source": [
    "train_data.show()"
   ]
  },
  {
   "cell_type": "code",
   "execution_count": 17,
   "id": "4f3f7a43",
   "metadata": {},
   "outputs": [
    {
     "name": "stdout",
     "output_type": "stream",
     "text": [
      "+-------+------------------+\n",
      "|summary|           charges|\n",
      "+-------+------------------+\n",
      "|  count|               936|\n",
      "|   mean|12999.827788748924|\n",
      "| stddev|11932.382452084874|\n",
      "|    min|         1131.5066|\n",
      "|    max|       60021.39897|\n",
      "+-------+------------------+\n",
      "\n"
     ]
    }
   ],
   "source": [
    "train_data.describe().show()"
   ]
  },
  {
   "cell_type": "code",
   "execution_count": 18,
   "id": "4874f33c",
   "metadata": {},
   "outputs": [],
   "source": [
    "#regression libarry\n",
    "from pyspark.ml.regression import LinearRegression"
   ]
  },
  {
   "cell_type": "code",
   "execution_count": 19,
   "id": "abccd89b",
   "metadata": {},
   "outputs": [],
   "source": [
    "#dependent and inpendent variable\n",
    "lm = LinearRegression(featuresCol=\"feature\",labelCol=\"charges\")"
   ]
  },
  {
   "cell_type": "code",
   "execution_count": 20,
   "id": "3582c4e7",
   "metadata": {},
   "outputs": [],
   "source": [
    "#training\n",
    "regressor=lm.fit(train_data)"
   ]
  },
  {
   "cell_type": "markdown",
   "id": "2176f0a6",
   "metadata": {},
   "source": [
    "# y  = M1*x1+m2*x2+M3*x3+b"
   ]
  },
  {
   "cell_type": "code",
   "execution_count": 21,
   "id": "c3dd5381",
   "metadata": {},
   "outputs": [
    {
     "name": "stdout",
     "output_type": "stream",
     "text": [
      "The coefficients of the model are : DenseVector([269.6497, 276.0702, 159.8231, 24122.8753])\n"
     ]
    }
   ],
   "source": [
    "#coffecient\n",
    "#here m1 ,m2 and M3 are coffecient\n",
    "coefficient = regressor.coefficients\n",
    "print (\"The coefficients of the model are : %a\" %coefficient)"
   ]
  },
  {
   "cell_type": "code",
   "execution_count": 22,
   "id": "44e231a7",
   "metadata": {},
   "outputs": [
    {
     "name": "stdout",
     "output_type": "stream",
     "text": [
      "The Intercept of the model is : -10840.355189\n"
     ]
    }
   ],
   "source": [
    "#here b is intercept\n",
    "\n",
    "#Find out intercept Value\n",
    "intercept = regressor.intercept\n",
    "print (\"The Intercept of the model is : %f\" %intercept)"
   ]
  },
  {
   "cell_type": "code",
   "execution_count": 24,
   "id": "86291045",
   "metadata": {},
   "outputs": [
    {
     "name": "stderr",
     "output_type": "stream",
     "text": [
      "/Users/azmatsiddique/opt/anaconda3/lib/python3.8/site-packages/pyspark/sql/context.py:125: FutureWarning: Deprecated in 3.0.0. Use SparkSession.builder.getOrCreate() instead.\n",
      "  warnings.warn(\n"
     ]
    },
    {
     "name": "stdout",
     "output_type": "stream",
     "text": [
      "+--------------------+-----------+-------------------+\n",
      "|             feature|    charges|         prediction|\n",
      "+--------------------+-----------+-------------------+\n",
      "|[18.0,20.79,1.0,0.0]|  1607.5101| -87.33913075220335|\n",
      "|[18.0,22.99,0.0,0.0]|  1704.5681| 360.19219656077075|\n",
      "|[18.0,23.21,0.0,0.0]|  1121.8739| 420.92763756006934|\n",
      "|[18.0,24.09,1.0,0.0]|  2201.0971|  823.6924842372864|\n",
      "|[18.0,25.46,0.0,0.0]|  1708.0014|  1042.085556871085|\n",
      "|[18.0,26.73,1.0,0.0]|  1615.7667| 1552.5177762288768|\n",
      "|[18.0,30.03,0.0,0.0]|  1720.3537| 2303.7263085383474|\n",
      "|[18.0,30.115,1.0,...| 2203.47185| 2487.0153570590046|\n",
      "|[18.0,30.115,1.0,...| 21344.8467| 2487.0153570590046|\n",
      "|[18.0,31.13,1.0,0.0]|  1621.8827| 2767.2265962148595|\n",
      "|[18.0,31.68,0.0,1.0]| 34303.1672| 26882.117418151647|\n",
      "|[18.0,33.66,0.0,0.0]|  1136.3994| 3305.8610850267814|\n",
      "| [18.0,34.1,0.0,0.0]|   1137.011| 3427.3319670253823|\n",
      "| [18.0,35.2,0.0,0.0]|    1727.54|  3731.009172021879|\n",
      "|[18.0,36.85,1.0,0.0]|  1629.8335|  4346.348062196641|\n",
      "|[18.0,37.29,0.0,0.0]|  1141.4451|  4307.995861515219|\n",
      "|[18.0,38.17,0.0,1.0]| 36307.7983| 28673.812927630977|\n",
      "|[18.0,38.28,1.0,0.0]|14133.03775|  4741.128428692085|\n",
      "|[18.0,39.14,0.0,0.0]|12890.05765|  4818.725706282055|\n",
      "|[18.0,39.82,1.0,0.0]|  1633.9618|  5166.276515687183|\n",
      "|[18.0,53.13,0.0,0.0]|  1163.4627|  8680.947613464765|\n",
      "| [19.0,17.8,1.0,0.0]|   1727.785| -643.1393323469256|\n",
      "| [19.0,18.6,1.0,0.0]|   1728.897|-422.28318325856526|\n",
      "| [19.0,20.6,1.0,0.0]|   1731.677| 129.85718946233828|\n",
      "| [19.0,20.7,0.0,0.0]|   1242.816|-2.3588745816359733|\n",
      "|[19.0,22.515,1.0,...| 2117.33885|  658.5315963426001|\n",
      "|[19.0,22.61,0.0,0.0]|  1628.4709|  524.9351813668236|\n",
      "|[19.0,25.175,0.0,...| 1632.03625| 1233.0552093813803|\n",
      "|[19.0,27.265,0.0,...|22493.65964| 1810.0418988747242|\n",
      "| [19.0,27.9,1.0,1.0]|  16884.924| 26268.044852012186|\n",
      "|[19.0,28.31,1.0,1.0]| 17468.9839| 26381.233628419977|\n",
      "| [19.0,28.6,1.0,0.0]|   4687.797|  2338.418680345945|\n",
      "|[19.0,28.88,1.0,1.0]| 17748.5062| 26538.593634645433|\n",
      "|[19.0,29.07,0.0,1.0]| 17352.6803| 26431.223887373897|\n",
      "|[19.0,30.02,1.0,1.0]| 33307.5508| 26853.313647096344|\n",
      "|[19.0,30.59,0.0,0.0]|  1639.5631|  2727.975268523225|\n",
      "|[19.0,31.825,1.0,...| 2719.27975| 3228.7450313584013|\n",
      "|[19.0,32.49,1.0,1.0]|36898.73308| 27535.207007406658|\n",
      "| [19.0,34.4,0.0,0.0]|   1261.859| 3779.8026785565435|\n",
      "| [19.0,34.7,1.0,1.0]|  36397.576| 28145.322119263255|\n",
      "+--------------------+-----------+-------------------+\n",
      "only showing top 40 rows\n",
      "\n"
     ]
    }
   ],
   "source": [
    "pred_results=regressor.evaluate(test_data)\n",
    "pred_results.predictions.show(40)"
   ]
  },
  {
   "cell_type": "code",
   "execution_count": null,
   "id": "6180040b",
   "metadata": {},
   "outputs": [],
   "source": [
    "#model Evaluation"
   ]
  },
  {
   "cell_type": "code",
   "execution_count": 25,
   "id": "e91a7604",
   "metadata": {},
   "outputs": [
    {
     "data": {
      "text/html": [
       "<img src=\"https://4.bp.blogspot.com/-wG7IbjTfE6k/XGUvqm7TCVI/AAAAAAAAAZU/vpH1kuKTIooKTcVlnm1EVRCXLVZM9cPNgCLcBGAs/s1600/formula-MAE-MSE-RMSE-RSquared.JPG\"/>"
      ],
      "text/plain": [
       "<IPython.core.display.Image object>"
      ]
     },
     "execution_count": 25,
     "metadata": {},
     "output_type": "execute_result"
    }
   ],
   "source": [
    "from IPython.display import Image\n",
    "from IPython.core.display import HTML \n",
    "Image(url= \"https://4.bp.blogspot.com/-wG7IbjTfE6k/XGUvqm7TCVI/AAAAAAAAAZU/vpH1kuKTIooKTcVlnm1EVRCXLVZM9cPNgCLcBGAs/s1600/formula-MAE-MSE-RMSE-RSquared.JPG\")"
   ]
  },
  {
   "cell_type": "code",
   "execution_count": 27,
   "id": "be905b1b",
   "metadata": {},
   "outputs": [],
   "source": [
    "#Evaluate the model using metric like Mean Absolute Error(MAE), Root Mean Square Error(RMSE) and R-Square\n",
    "from pyspark.ml.evaluation import RegressionEvaluator\n",
    "evaluation = RegressionEvaluator(labelCol=\"charges\", predictionCol=\"prediction\")"
   ]
  },
  {
   "cell_type": "code",
   "execution_count": 29,
   "id": "656d872c",
   "metadata": {},
   "outputs": [
    {
     "name": "stdout",
     "output_type": "stream",
     "text": [
      "r2: 0.711\n"
     ]
    }
   ],
   "source": [
    "# r2 - coefficient of determination\n",
    "r2 = evaluation.evaluate(pred_results.predictions, {evaluation.metricName: \"r2\"})\n",
    "print(\"r2: %.3f\" %r2)"
   ]
  },
  {
   "cell_type": "code",
   "execution_count": null,
   "id": "da3e263d",
   "metadata": {},
   "outputs": [],
   "source": []
  }
 ],
 "metadata": {
  "kernelspec": {
   "display_name": "Python 3",
   "language": "python",
   "name": "python3"
  },
  "language_info": {
   "codemirror_mode": {
    "name": "ipython",
    "version": 3
   },
   "file_extension": ".py",
   "mimetype": "text/x-python",
   "name": "python",
   "nbconvert_exporter": "python",
   "pygments_lexer": "ipython3",
   "version": "3.8.8"
  }
 },
 "nbformat": 4,
 "nbformat_minor": 5
}
